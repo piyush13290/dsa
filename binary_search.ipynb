{
 "cells": [
  {
   "cell_type": "markdown",
   "metadata": {},
   "source": [
    "### Self note: \n",
    "\n",
    "- The idea is actually super simple \n",
    "- the given list is a sorted list (ascending order), and you are given a target value. \n",
    "- the job is to find the index of the target value in the list, and if the target value is not in the list then return -1\n",
    "- The idea behind binary search is that, instead of looking in the entire list, smartly check the mid piont, and see if the targe is less or more than that\n",
    "- depending on that, discard the first half or the second half of the list while searching\n",
    "- keep doing this iteratively\n",
    "- make sure to keep a check on left and right pointers!\n"
   ]
  },
  {
   "cell_type": "code",
   "execution_count": 8,
   "metadata": {},
   "outputs": [],
   "source": [
    "from typing import List"
   ]
  },
  {
   "cell_type": "code",
   "execution_count": 32,
   "metadata": {},
   "outputs": [],
   "source": [
    "def binary_search(nums:list, target:int):\n",
    "\n",
    "    left, right = 0, len(nums)-1\n",
    "\n",
    "    while left <= right:\n",
    "        # find the mid point \n",
    "        mid = left + ((right - left )//2)\n",
    "        # check the mid point itself is an ans or not \n",
    "        if nums[mid] == target:\n",
    "            return mid\n",
    "        # move left or right points based on mid point value\n",
    "        elif nums[mid] > target:\n",
    "            right = mid - 1 \n",
    "        else:\n",
    "            left = mid + 1\n",
    "\n",
    "    return -1\n",
    "\n",
    "\n"
   ]
  },
  {
   "cell_type": "code",
   "execution_count": 6,
   "metadata": {},
   "outputs": [
    {
     "data": {
      "text/plain": [
       "-1"
      ]
     },
     "execution_count": 6,
     "metadata": {},
     "output_type": "execute_result"
    }
   ],
   "source": [
    "nums = [1,2,4,6,7,10,11,12] \n",
    "target = 8\n",
    "\n",
    "binary_search(nums, target)"
   ]
  },
  {
   "cell_type": "markdown",
   "metadata": {},
   "source": [
    "### Binary Search in 2D Matrix\n",
    "\n",
    "You are given an m x n 2-D integer array matrix and an integer target.\n",
    "\n",
    "- Each row in matrix is sorted in non-decreasing order.\n",
    "- The first integer of every row is greater than the last integer of the previous row.\n",
    "- Return true if target exists within matrix or false otherwise.\n",
    "\n",
    "Input: matrix = [[1,2,4,8],[10,11,12,13],[14,20,30,40]], target = 10\n",
    "\n",
    "Output: true"
   ]
  },
  {
   "cell_type": "markdown",
   "metadata": {},
   "source": [
    "### Self Notes \n",
    "\n",
    "- So this is actually not that difficult\n",
    "- The idea is to first find the row which could possibly contain the target value\n",
    "- Here, I needed to be carefully check the first and the last value of the array\n",
    "- Once you have a row, then within that row you just have to do the binary search against the target. "
   ]
  },
  {
   "cell_type": "code",
   "execution_count": 37,
   "metadata": {},
   "outputs": [],
   "source": [
    "def binary_search_2d_mat(matrix:List[List[int]], target:int)-> bool:\n",
    "\n",
    "    o_left, o_right = 0, len(matrix) - 1\n",
    "    array_len = len(matrix[0])\n",
    "\n",
    "    ans = -1 \n",
    "    while o_left <= o_right:\n",
    "        # find the mid point \n",
    "        o_mid = o_left + ((o_right - o_left)//2)\n",
    "\n",
    "        print(matrix[o_mid])    # check if this mid piont list could contain the target \n",
    "        print((matrix[o_mid][0] <= target) and (matrix[o_mid][array_len-1] >= target))\n",
    "        if ((matrix[o_mid][0] <= target) and (matrix[o_mid][array_len-1] >= target)): \n",
    "            print(\"I am here\")\n",
    "\n",
    "            ans = binary_search(matrix[o_mid], target)\n",
    "            final_answer = False if ans == -1 else True\n",
    "            return final_answer\n",
    "        # now just need to move the pointers \n",
    "        elif matrix[o_mid][array_len-1] < target: \n",
    "\n",
    "            o_left = o_mid + 1\n",
    "            \n",
    "        else:\n",
    "            o_right = o_mid - 1 \n",
    "            \n",
    "\n",
    "    return False"
   ]
  },
  {
   "cell_type": "code",
   "execution_count": 38,
   "metadata": {},
   "outputs": [
    {
     "name": "stdout",
     "output_type": "stream",
     "text": [
      "[10, 11, 12, 13]\n",
      "True\n",
      "I am here\n"
     ]
    },
    {
     "data": {
      "text/plain": [
       "True"
      ]
     },
     "execution_count": 38,
     "metadata": {},
     "output_type": "execute_result"
    }
   ],
   "source": [
    "matrix = [[1,2,4,8],[10,11,12,13],[14,20,30,40]]\n",
    "target = 10\n",
    "\n",
    "binary_search_2d_mat(matrix, target)"
   ]
  },
  {
   "cell_type": "code",
   "execution_count": 39,
   "metadata": {},
   "outputs": [
    {
     "name": "stdout",
     "output_type": "stream",
     "text": [
      "[10, 11, 12, 13]\n",
      "False\n",
      "[14, 20, 30, 40]\n",
      "True\n",
      "I am here\n"
     ]
    },
    {
     "data": {
      "text/plain": [
       "False"
      ]
     },
     "execution_count": 39,
     "metadata": {},
     "output_type": "execute_result"
    }
   ],
   "source": [
    "matrix = [[1,2,4,8],[10,11,12,13],[14,20,30,40]]\n",
    "target = 15\n",
    "binary_search_2d_mat(matrix, target)"
   ]
  },
  {
   "cell_type": "code",
   "execution_count": null,
   "metadata": {},
   "outputs": [],
   "source": []
  }
 ],
 "metadata": {
  "kernelspec": {
   "display_name": ".venv",
   "language": "python",
   "name": "python3"
  },
  "language_info": {
   "codemirror_mode": {
    "name": "ipython",
    "version": 3
   },
   "file_extension": ".py",
   "mimetype": "text/x-python",
   "name": "python",
   "nbconvert_exporter": "python",
   "pygments_lexer": "ipython3",
   "version": "3.10.5"
  }
 },
 "nbformat": 4,
 "nbformat_minor": 2
}
