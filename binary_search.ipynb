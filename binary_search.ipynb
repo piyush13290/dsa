{
 "cells": [
  {
   "cell_type": "markdown",
   "metadata": {},
   "source": [
    "### Self note: \n",
    "\n",
    "- The idea is actually super simple \n",
    "- the given list is a sorted list (ascending order), and you are given a target value. \n",
    "- the job is to find the index of the target value in the list, and if the target value is not in the list then return -1\n",
    "- The idea behind binary search is that, instead of looking in the entire list, smartly check the mid piont, and see if the targe is less or more than that\n",
    "- depending on that, discard the first half or the second half of the list while searching\n",
    "- keep doing this iteratively\n",
    "- make sure to keep a check on left and right pointers!\n",
    "\n",
    "### Imp points\n",
    "\n",
    "- Need to make sure the while loop breaks (not stuck in infinite runs)\n",
    "- for that it has be `left < right` or `left <= right` \n",
    "- Similarly, both left and right pointer must be `+/- 1` from the mid point \n",
    "- never set `left or right = mid` , it's a recipe for infinite loop\n",
    "- the core idea is that when `left` pointer crosses the `right` pointer, we have looked all the possible values in the range\n"
   ]
  },
  {
   "cell_type": "code",
   "execution_count": 8,
   "metadata": {},
   "outputs": [],
   "source": [
    "from typing import List"
   ]
  },
  {
   "cell_type": "code",
   "execution_count": 32,
   "metadata": {},
   "outputs": [],
   "source": [
    "def binary_search(nums:list, target:int):\n",
    "\n",
    "    left, right = 0, len(nums)-1\n",
    "\n",
    "    while left <= right:\n",
    "        # find the mid point \n",
    "        mid = left + ((right - left )//2)\n",
    "        # check the mid point itself is an ans or not \n",
    "        if nums[mid] == target:\n",
    "            return mid\n",
    "        # move left or right points based on mid point value\n",
    "        elif nums[mid] > target:\n",
    "            right = mid - 1 \n",
    "        else:\n",
    "            left = mid + 1\n",
    "\n",
    "    return -1\n",
    "\n",
    "\n"
   ]
  },
  {
   "cell_type": "code",
   "execution_count": 6,
   "metadata": {},
   "outputs": [
    {
     "data": {
      "text/plain": [
       "-1"
      ]
     },
     "execution_count": 6,
     "metadata": {},
     "output_type": "execute_result"
    }
   ],
   "source": [
    "nums = [1,2,4,6,7,10,11,12] \n",
    "target = 8\n",
    "\n",
    "binary_search(nums, target)"
   ]
  },
  {
   "cell_type": "markdown",
   "metadata": {},
   "source": [
    "### Binary Search in 2D Matrix\n",
    "\n",
    "You are given an m x n 2-D integer array matrix and an integer target.\n",
    "\n",
    "- Each row in matrix is sorted in non-decreasing order.\n",
    "- The first integer of every row is greater than the last integer of the previous row.\n",
    "- Return true if target exists within matrix or false otherwise.\n",
    "\n",
    "Input: matrix = [[1,2,4,8],[10,11,12,13],[14,20,30,40]], target = 10\n",
    "\n",
    "Output: true"
   ]
  },
  {
   "cell_type": "markdown",
   "metadata": {},
   "source": [
    "### Self Notes \n",
    "\n",
    "- So this is actually not that difficult\n",
    "- The idea is to first find the row which could possibly contain the target value\n",
    "- Here, I needed to be carefully check the first and the last value of the array\n",
    "- Once you have a row, then within that row you just have to do the binary search against the target. "
   ]
  },
  {
   "cell_type": "code",
   "execution_count": 37,
   "metadata": {},
   "outputs": [],
   "source": [
    "def binary_search_2d_mat(matrix:List[List[int]], target:int)-> bool:\n",
    "\n",
    "    o_left, o_right = 0, len(matrix) - 1\n",
    "    array_len = len(matrix[0])\n",
    "\n",
    "    ans = -1 \n",
    "    while o_left <= o_right:\n",
    "        # find the mid point \n",
    "        o_mid = o_left + ((o_right - o_left)//2)\n",
    "\n",
    "        print(matrix[o_mid])    # check if this mid piont list could contain the target \n",
    "        print((matrix[o_mid][0] <= target) and (matrix[o_mid][array_len-1] >= target))\n",
    "        if ((matrix[o_mid][0] <= target) and (matrix[o_mid][array_len-1] >= target)): \n",
    "            print(\"I am here\")\n",
    "\n",
    "            ans = binary_search(matrix[o_mid], target)\n",
    "            final_answer = False if ans == -1 else True\n",
    "            return final_answer\n",
    "        # now just need to move the pointers \n",
    "        elif matrix[o_mid][array_len-1] < target: \n",
    "\n",
    "            o_left = o_mid + 1\n",
    "            \n",
    "        else:\n",
    "            o_right = o_mid - 1 \n",
    "            \n",
    "\n",
    "    return False"
   ]
  },
  {
   "cell_type": "code",
   "execution_count": 38,
   "metadata": {},
   "outputs": [
    {
     "name": "stdout",
     "output_type": "stream",
     "text": [
      "[10, 11, 12, 13]\n",
      "True\n",
      "I am here\n"
     ]
    },
    {
     "data": {
      "text/plain": [
       "True"
      ]
     },
     "execution_count": 38,
     "metadata": {},
     "output_type": "execute_result"
    }
   ],
   "source": [
    "matrix = [[1,2,4,8],[10,11,12,13],[14,20,30,40]]\n",
    "target = 10\n",
    "\n",
    "binary_search_2d_mat(matrix, target)"
   ]
  },
  {
   "cell_type": "code",
   "execution_count": 39,
   "metadata": {},
   "outputs": [
    {
     "name": "stdout",
     "output_type": "stream",
     "text": [
      "[10, 11, 12, 13]\n",
      "False\n",
      "[14, 20, 30, 40]\n",
      "True\n",
      "I am here\n"
     ]
    },
    {
     "data": {
      "text/plain": [
       "False"
      ]
     },
     "execution_count": 39,
     "metadata": {},
     "output_type": "execute_result"
    }
   ],
   "source": [
    "matrix = [[1,2,4,8],[10,11,12,13],[14,20,30,40]]\n",
    "target = 15\n",
    "binary_search_2d_mat(matrix, target)"
   ]
  },
  {
   "cell_type": "code",
   "execution_count": 42,
   "metadata": {},
   "outputs": [
    {
     "data": {
      "text/plain": [
       "2.5"
      ]
     },
     "execution_count": 42,
     "metadata": {},
     "output_type": "execute_result"
    }
   ],
   "source": [
    "5/2"
   ]
  },
  {
   "cell_type": "markdown",
   "metadata": {},
   "source": [
    "Koko Eating Bananas\n",
    "- You are given an integer array piles where piles[i] is the number of bananas in the ith pile. You are also given an integer h, which represents the number of hours you have to eat all the bananas.\n",
    "\n",
    "- You may decide your bananas-per-hour eating rate of k. Each hour, you may choose a pile of bananas and eats k bananas from that pile. If the pile has less than k bananas, you may finish eating the pile but you can not eat from another pile in the same hour.\n",
    "\n",
    "- Return the minimum integer k such that you can eat all the bananas within h hours.\n",
    "\n"
   ]
  },
  {
   "cell_type": "code",
   "execution_count": 43,
   "metadata": {},
   "outputs": [
    {
     "data": {
      "text/plain": [
       "3"
      ]
     },
     "execution_count": 43,
     "metadata": {},
     "output_type": "execute_result"
    }
   ],
   "source": [
    "import math\n",
    "\n",
    "math.ceil(5/2)"
   ]
  },
  {
   "cell_type": "code",
   "execution_count": 71,
   "metadata": {},
   "outputs": [],
   "source": [
    "# brute force solution\n",
    "\n",
    "def min_eating_speed(piles:List[int], h:int) -> int:\n",
    "\n",
    "    speed = 1 \n",
    "\n",
    "    while True: \n",
    "        total_hours = 0\n",
    "        \n",
    "        for pile in piles:\n",
    "            h_taken = math.ceil(pile/speed)\n",
    "\n",
    "            total_hours += h_taken\n",
    "        # print(speed)\n",
    "        # print(total_hours)\n",
    "        # print(\"----\")\n",
    "        if total_hours <= h:\n",
    "            return speed\n",
    "        speed += 1\n"
   ]
  },
  {
   "cell_type": "code",
   "execution_count": 72,
   "metadata": {},
   "outputs": [
    {
     "data": {
      "text/plain": [
       "2"
      ]
     },
     "execution_count": 72,
     "metadata": {},
     "output_type": "execute_result"
    }
   ],
   "source": [
    "piles = [1,4,3,2]\n",
    "h = 9\n",
    "min_eating_speed(piles, h)"
   ]
  },
  {
   "cell_type": "code",
   "execution_count": 73,
   "metadata": {},
   "outputs": [
    {
     "data": {
      "text/plain": [
       "25"
      ]
     },
     "execution_count": 73,
     "metadata": {},
     "output_type": "execute_result"
    }
   ],
   "source": [
    "piles = [25,10,23,4]\n",
    "h = 4\n",
    "min_eating_speed(piles, h)"
   ]
  },
  {
   "cell_type": "markdown",
   "metadata": {},
   "source": [
    "- the above solution is O(m*n) in time complexity \n",
    "- n is the length of the array \n",
    "- m is the max value in the array \n",
    "\n",
    "- a while loop that starts from speed=1 and goes up until we find the right speed\n",
    "- For each speed value, we iterate through all piles (which is n iterations)\n",
    "- The maximum speed we'll need to check would be the maximum value in piles (m)"
   ]
  },
  {
   "cell_type": "markdown",
   "metadata": {},
   "source": [
    "## Better solution \n",
    "\n",
    "- find the upper bound of the speed \n",
    "- which would be the max num in the list \n",
    "- so now we have the upper bound, and the lower bound is 1, \n",
    "- we can do the binary search between 1 to the upper bound \n",
    "- Yeah, this makes more sense ... \n",
    "- we need to find the min speed, so once we have the range\n",
    "- we can first check if the mid range speed is enough, if it is the discard all the higher speed than that \n",
    "- and keep doing such until you find the min speed"
   ]
  },
  {
   "cell_type": "code",
   "execution_count": 77,
   "metadata": {},
   "outputs": [],
   "source": [
    "def min_speed_binary(piles:List[int], h:int) -> int:\n",
    "\n",
    "    min_speed = 1\n",
    "    max_speed = max(piles)\n",
    "\n",
    "    def cal_total_hours(piles, speed):\n",
    "        total_hours = 0 \n",
    "        for pile in piles:\n",
    "            hours_taken = math.ceil(pile/speed)\n",
    "            total_hours += hours_taken\n",
    "        return total_hours\n",
    "\n",
    "\n",
    "    left = min_speed\n",
    "    right = max_speed\n",
    "    best_speed = math.inf \n",
    "\n",
    "    # be very sure that this loop breaks at some point\n",
    "    while left <= right:\n",
    "\n",
    "        mid = left + ((right - left)// 2)\n",
    "        total_hours = cal_total_hours(piles, mid)\n",
    "\n",
    "        # valid speed \n",
    "        if total_hours <= h:\n",
    "            # i dont need to have more speed than the mid point \n",
    "            right = mid - 1 \n",
    "\n",
    "            # update the best speed \n",
    "            if mid < best_speed:\n",
    "                best_speed = mid \n",
    "\n",
    "        elif total_hours > h:\n",
    "            # i cant have lower speed than the mid point\n",
    "            left = mid + 1 \n",
    "    \n",
    "    return best_speed \n"
   ]
  },
  {
   "cell_type": "code",
   "execution_count": 75,
   "metadata": {},
   "outputs": [
    {
     "data": {
      "text/plain": [
       "2"
      ]
     },
     "execution_count": 75,
     "metadata": {},
     "output_type": "execute_result"
    }
   ],
   "source": [
    "piles = [1,4,3,2]\n",
    "h = 9\n",
    "min_speed_binary(piles, h)"
   ]
  },
  {
   "cell_type": "markdown",
   "metadata": {},
   "source": [
    "## Self Note\n",
    "\n",
    "- Need to make sure the while loop breaks (not stuck in infinite runs)\n",
    "- for that it has be `left < right` or `left <= right` \n",
    "- Similarly, both left and right pointer must be `+/- 1` from the mid point \n",
    "- never set `left or right = mid` , it's a recipe for infinite loop\n",
    "- the core idea is that when `left` pointer crosses the `right` pointer, we have looked all the possible values in the range"
   ]
  },
  {
   "cell_type": "markdown",
   "metadata": {},
   "source": []
  }
 ],
 "metadata": {
  "kernelspec": {
   "display_name": ".venv",
   "language": "python",
   "name": "python3"
  },
  "language_info": {
   "codemirror_mode": {
    "name": "ipython",
    "version": 3
   },
   "file_extension": ".py",
   "mimetype": "text/x-python",
   "name": "python",
   "nbconvert_exporter": "python",
   "pygments_lexer": "ipython3",
   "version": "3.10.5"
  }
 },
 "nbformat": 4,
 "nbformat_minor": 2
}
