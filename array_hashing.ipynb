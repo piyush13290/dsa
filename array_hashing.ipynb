{
 "cells": [
  {
   "cell_type": "code",
   "execution_count": 1,
   "metadata": {},
   "outputs": [],
   "source": [
    "from typing import List"
   ]
  },
  {
   "cell_type": "markdown",
   "metadata": {},
   "source": [
    "### Array and Hash maps "
   ]
  },
  {
   "cell_type": "markdown",
   "metadata": {},
   "source": [
    "### 1. Contains Duplicates \n",
    "\n",
    "- super simple, \n",
    "- given an array, find if it contains any duplicates, that's all. \n",
    "- One way is to use hash map, and iterate over the array, check if the value is already there, if not put it, if the value is already there, you got your answer\n",
    "- you can also use set(), set() itself would keep unique values"
   ]
  },
  {
   "cell_type": "code",
   "execution_count": 4,
   "metadata": {},
   "outputs": [],
   "source": [
    "def has_duplicate(nums:List[int]) -> bool:\n",
    "    # usuing dict\n",
    "    nums_dict = {}\n",
    "    for n in nums:\n",
    "        val = nums_dict.get(n, 0)\n",
    "        if val > 0:\n",
    "            return True\n",
    "        nums_dict[n] = 1\n",
    "    return True\n",
    "\n",
    "def has_duplicate(nums:List[int]) -> bool:\n",
    "    # using set \n",
    "    # super simple \n",
    "    return len(nums) != len(set(nums))\n",
    "\n",
    "def has_duplicate(nums:List[int]) -> bool:\n",
    "    # set\n",
    "    seen_set = set()\n",
    "    for n in nums:\n",
    "        if n in seen_set:\n",
    "            return True\n",
    "        seen_set.add(n)\n",
    "    return False\n",
    "\n"
   ]
  },
  {
   "cell_type": "markdown",
   "metadata": {},
   "source": [
    "### Valid Anagram \n",
    "\n",
    "Given two strings s and t, return true if the two strings are anagrams of each other, otherwise return false.\n",
    "\n",
    "An anagram is a string that contains the exact same characters as another string, but the order of the characters can be different.\n",
    "\n",
    "\n",
    "- I think the best way is to make two dicts, use as a counter for each chr and then compare them\n",
    "\n"
   ]
  },
  {
   "cell_type": "code",
   "execution_count": 5,
   "metadata": {},
   "outputs": [],
   "source": [
    "def isAnagram(s:str, t:str) -> bool:\n",
    "\n",
    "    if len(s) != len(t):\n",
    "        return False\n",
    "    \n",
    "    s_dict = {}\n",
    "    t_dict = {}\n",
    "\n",
    "    for chr in s:\n",
    "        s_dict[chr] = s_dict.get(chr, 0) + 1\n",
    "\n",
    "    for chr in t:\n",
    "        t_dict[chr] = t_dict.get(chr, 0) + 1\n",
    "\n",
    "    for k,v in s_dict.items():\n",
    "\n",
    "        if t_dict.get(k, 0) != v:\n",
    "            return False\n",
    "    return True "
   ]
  },
  {
   "cell_type": "markdown",
   "metadata": {},
   "source": [
    "#### Another solution \n",
    "\n",
    "- the above one has has time complexity of O(n + n) --> O(n), but space complexity of O(2n), as we are making two dict \n",
    "\n",
    "- there is anothers smarter way to do this, is make one dict, loop over zip(s,t) and for each count for s string add 1 and for an each count for t string substract 1 from the counter. \n",
    "\n",
    "- so at the end, the values for all the keys in the dict should be 0, if not, its not an anagram .. bingo!! "
   ]
  },
  {
   "cell_type": "code",
   "execution_count": 6,
   "metadata": {},
   "outputs": [],
   "source": [
    "def isAnagram(s:str, t:str) -> bool:\n",
    "\n",
    "    # if lens are not same, then there is just no way...\n",
    "    if len(s) != len(t):\n",
    "        return False \n",
    "    \n",
    "    # single dict \n",
    "    char_counts = {}\n",
    "\n",
    "    # i can use zip, as i know at this piont, len of both strins are exactly the same \n",
    "    for c1, c2 in zip(s,t):\n",
    "        char_counts[c1] = char_counts.get(c1, 0) + 1\n",
    "        char_counts[c2] = char_counts.get(c2, 0) - 1\n",
    "\n",
    "    final_ans = all(count==0 for count in char_counts.values())\n",
    "\n",
    "    return final_ans"
   ]
  },
  {
   "cell_type": "markdown",
   "metadata": {},
   "source": [
    "Encode and Decode Strings\n",
    "Design an algorithm to encode a list of strings to a single string. The encoded string is then decoded back to the original list of strings.\n",
    "\n",
    "Please implement encode and decode\n",
    "\n",
    "Example 1:\n",
    "\n",
    "Input: [\"neet\",\"code\",\"love\",\"you\"]\n",
    "Output:[\"neet\",\"code\",\"love\",\"you\"]"
   ]
  },
  {
   "cell_type": "code",
   "execution_count": null,
   "metadata": {},
   "outputs": [],
   "source": [
    "class Solution:\n",
    "\n",
    "    def encode(self, strs: List[str]) -> str:\n",
    "        \n",
    "        one_string = \"\"\n",
    "        for w in strs:\n",
    "            one_string += w + \"#\"\n",
    "        \n",
    "        return one_string\n",
    "\n",
    "\n",
    "    def decode(self, s: str) -> List[str]:\n",
    "        one_string = s\n",
    "        \n",
    "        list_words = []\n",
    "        start_idx = 0 \n",
    "        for i, chr in enumerate(one_string):\n",
    "            if chr == \"#\":\n",
    "                list_words.append(one_string[start_idx:i])\n",
    "                # update the start_index \n",
    "                start_idx = i + 1 \n",
    "\n",
    "        return list_words\n"
   ]
  },
  {
   "cell_type": "code",
   "execution_count": 16,
   "metadata": {},
   "outputs": [
    {
     "name": "stdout",
     "output_type": "stream",
     "text": [
      "4#neet4#code4#love3#you\n"
     ]
    }
   ],
   "source": [
    "one_string = \"\"\n",
    "strs = [\"neet\",\"code\",\"love\",\"you\"]\n",
    "encoded_strs = []\n",
    "for w in strs:\n",
    "    new_w = f\"{len(w)}#\" + w\n",
    "\n",
    "    one_string += new_w\n",
    "    \n",
    "\n",
    "print(one_string)\n"
   ]
  },
  {
   "cell_type": "code",
   "execution_count": 9,
   "metadata": {},
   "outputs": [
    {
     "data": {
      "text/plain": [
       "['neet', 'code', 'love', 'you']"
      ]
     },
     "execution_count": 9,
     "metadata": {},
     "output_type": "execute_result"
    }
   ],
   "source": [
    "\n",
    "\n",
    "list_words = []\n",
    "start_idx = 0 \n",
    "for i, chr in enumerate(one_string):\n",
    "    if chr == \"#\":\n",
    "        list_words.append(one_string[start_idx:i])\n",
    "        # update the start_index \n",
    "        start_idx = i + 1 \n",
    "\n",
    "list_words\n",
    "\n"
   ]
  },
  {
   "cell_type": "code",
   "execution_count": 18,
   "metadata": {},
   "outputs": [
    {
     "ename": "ValueError",
     "evalue": "invalid literal for int() with base 10: 'k'",
     "output_type": "error",
     "traceback": [
      "\u001b[0;31m---------------------------------------------------------------------------\u001b[0m",
      "\u001b[0;31mValueError\u001b[0m                                Traceback (most recent call last)",
      "Cell \u001b[0;32mIn[18], line 1\u001b[0m\n\u001b[0;32m----> 1\u001b[0m \u001b[38;5;28;43mint\u001b[39;49m\u001b[43m(\u001b[49m\u001b[38;5;124;43m\"\u001b[39;49m\u001b[38;5;124;43mk\u001b[39;49m\u001b[38;5;124;43m\"\u001b[39;49m\u001b[43m)\u001b[49m\n",
      "\u001b[0;31mValueError\u001b[0m: invalid literal for int() with base 10: 'k'"
     ]
    }
   ],
   "source": []
  },
  {
   "cell_type": "code",
   "execution_count": null,
   "metadata": {},
   "outputs": [],
   "source": []
  }
 ],
 "metadata": {
  "kernelspec": {
   "display_name": ".venv",
   "language": "python",
   "name": "python3"
  },
  "language_info": {
   "codemirror_mode": {
    "name": "ipython",
    "version": 3
   },
   "file_extension": ".py",
   "mimetype": "text/x-python",
   "name": "python",
   "nbconvert_exporter": "python",
   "pygments_lexer": "ipython3",
   "version": "3.10.5"
  }
 },
 "nbformat": 4,
 "nbformat_minor": 2
}
