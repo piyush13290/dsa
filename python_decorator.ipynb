{
 "cells": [
  {
   "cell_type": "markdown",
   "metadata": {},
   "source": [
    "A decorater essentially a funciton that takes another funciton as an argument and extends it behaviour. It is like wrapping paper around a gift - it adds functionality without changing the original item inside. "
   ]
  },
  {
   "cell_type": "code",
   "execution_count": 35,
   "metadata": {},
   "outputs": [],
   "source": [
    "\n",
    "from typing import List"
   ]
  },
  {
   "cell_type": "code",
   "execution_count": 25,
   "metadata": {},
   "outputs": [],
   "source": [
    "# basic Decorator Structre: \n",
    "\n",
    "def my_decorator(func):\n",
    "    def my_wrapper():\n",
    "        print(\"let's do something before the function is called!\")\n",
    "        func()\n",
    "        print(\"let's do something AFTER the function has been called!!\")\n",
    "    return my_wrapper"
   ]
  },
  {
   "cell_type": "code",
   "execution_count": 26,
   "metadata": {},
   "outputs": [],
   "source": [
    "@my_decorator\n",
    "def say_hello():\n",
    "    print(\"Hello\")"
   ]
  },
  {
   "cell_type": "code",
   "execution_count": 27,
   "metadata": {},
   "outputs": [
    {
     "name": "stdout",
     "output_type": "stream",
     "text": [
      "let's do something before the function is called!\n",
      "Hello\n",
      "let's do something AFTER the function has been called!!\n"
     ]
    }
   ],
   "source": [
    "say_hello()"
   ]
  },
  {
   "cell_type": "code",
   "execution_count": 39,
   "metadata": {},
   "outputs": [
    {
     "name": "stdout",
     "output_type": "stream",
     "text": [
      "my_wrapper\n",
      "None\n"
     ]
    }
   ],
   "source": [
    "## Use @wraps decorator inside your decorator itself!!! by why!!\n",
    "\n",
    "@my_decorator\n",
    "def say_hello_again():\n",
    "    \"\"\" this func greets you with a hello!\"\"\"\n",
    "    print(\"Hello\")\n",
    "\n",
    "print(say_hello_again.__name__)\n",
    "print(say_hello_again.__doc__)\n",
    "\n",
    "## see, this is how you loose info about the fun name and docstrings if you just use the decorator, using @wraps prevents that!!"
   ]
  },
  {
   "cell_type": "code",
   "execution_count": 41,
   "metadata": {},
   "outputs": [
    {
     "name": "stdout",
     "output_type": "stream",
     "text": [
      "say_hello_again\n",
      "this func greets you with a hello!\n"
     ]
    }
   ],
   "source": [
    "from functools import wraps\n",
    "\n",
    "def my_better_decorator(func):\n",
    "    @wraps(func)\n",
    "    def my_wrapper():\n",
    "        print(\"let's do something before the function is called!\")\n",
    "        func()\n",
    "        print(\"let's do something AFTER the function has been called!!\")\n",
    "    return my_wrapper\n",
    "\n",
    "@my_better_decorator\n",
    "def say_hello_again():\n",
    "    \"\"\"this func greets you with a hello!\"\"\"\n",
    "    print(\"Hello\")\n",
    "\n",
    "print(say_hello_again.__name__)\n",
    "print(say_hello_again.__doc__)"
   ]
  },
  {
   "cell_type": "code",
   "execution_count": 23,
   "metadata": {},
   "outputs": [],
   "source": [
    "## Timining Funciton Execution\n",
    "\n",
    "import time\n",
    "\n",
    "def measure_time(func):\n",
    "    def wrapper(*args, **kwargs):\n",
    "        start = time.time()\n",
    "        result = func(*args, **kwargs)\n",
    "        end = time.time()\n",
    "        print(f\"{func.__name__} took {end - start:.2f} seconds to execute!!\")\n",
    "        \n",
    "        # this needs to return the result, otherwise it will just execute it, and not return anything. \n",
    "        return result \n",
    "    \n",
    "    return wrapper\n",
    "\n",
    "@measure_time\n",
    "def calculate_squares(n):\n",
    "    # let's force the a quick nap as soon as you get some work!!\n",
    "    time.sleep(3)\n",
    "    return [i**2 for i in range(n)]"
   ]
  },
  {
   "cell_type": "code",
   "execution_count": 24,
   "metadata": {},
   "outputs": [
    {
     "name": "stdout",
     "output_type": "stream",
     "text": [
      "calculate_squares took 3.00 seconds to execute!!\n"
     ]
    },
    {
     "data": {
      "text/plain": [
       "[0, 1, 4, 9, 16, 25, 36, 49, 64, 81]"
      ]
     },
     "execution_count": 24,
     "metadata": {},
     "output_type": "execute_result"
    }
   ],
   "source": [
    "calculate_squares(10)"
   ]
  },
  {
   "cell_type": "code",
   "execution_count": 28,
   "metadata": {},
   "outputs": [],
   "source": [
    "## Practice : build a decorator that measure memory usage"
   ]
  },
  {
   "cell_type": "code",
   "execution_count": 29,
   "metadata": {},
   "outputs": [
    {
     "data": {
      "text/plain": [
       "96"
      ]
     },
     "execution_count": 29,
     "metadata": {},
     "output_type": "execute_result"
    }
   ],
   "source": [
    "import sys\n",
    "\n",
    "my_list = [1,2,3,4,5]\n",
    "\n",
    "sys.getsizeof(my_list)"
   ]
  },
  {
   "cell_type": "code",
   "execution_count": 38,
   "metadata": {},
   "outputs": [],
   "source": [
    "# simple decorator which just calculates the memory used by the result of the function, not the entire operation within the func\n",
    "def get_memory_size(func):\n",
    "    def wrapper(*args, **kwargs):\n",
    "        result = func(*args, **kwargs)\n",
    "        memory_used = sys.getsizeof(result)\n",
    "        print(f\"memory used by this {func.__name__} = {memory_used}\")\n",
    "        return result \n",
    "    return wrapper\n"
   ]
  },
  {
   "cell_type": "code",
   "execution_count": 31,
   "metadata": {},
   "outputs": [],
   "source": [
    "@get_memory_size\n",
    "def any_ranodm_func(n): \n",
    "    return {i: str(i**1/2) for i in range(10)}\n"
   ]
  },
  {
   "cell_type": "code",
   "execution_count": 32,
   "metadata": {},
   "outputs": [
    {
     "name": "stdout",
     "output_type": "stream",
     "text": [
      "memory used by this any_ranodm_func = 360\n"
     ]
    },
    {
     "data": {
      "text/plain": [
       "{0: '0.0',\n",
       " 1: '0.5',\n",
       " 2: '1.0',\n",
       " 3: '1.5',\n",
       " 4: '2.0',\n",
       " 5: '2.5',\n",
       " 6: '3.0',\n",
       " 7: '3.5',\n",
       " 8: '4.0',\n",
       " 9: '4.5'}"
      ]
     },
     "execution_count": 32,
     "metadata": {},
     "output_type": "execute_result"
    }
   ],
   "source": [
    "any_ranodm_func(10)"
   ]
  },
  {
   "cell_type": "code",
   "execution_count": null,
   "metadata": {},
   "outputs": [],
   "source": [
    "## decorator which checks the all t"
   ]
  },
  {
   "cell_type": "code",
   "execution_count": null,
   "metadata": {},
   "outputs": [],
   "source": []
  },
  {
   "cell_type": "code",
   "execution_count": 36,
   "metadata": {},
   "outputs": [],
   "source": [
    "@get_memory_size\n",
    "def create_large_list(size: int) -> List[int]:\n",
    "    \"\"\"Creates a large list of integers\"\"\"\n",
    "    return list(range(size))"
   ]
  },
  {
   "cell_type": "code",
   "execution_count": 37,
   "metadata": {},
   "outputs": [
    {
     "name": "stdout",
     "output_type": "stream",
     "text": [
      "memory used by this create_large_list = 856\n"
     ]
    },
    {
     "data": {
      "text/plain": [
       "[0,\n",
       " 1,\n",
       " 2,\n",
       " 3,\n",
       " 4,\n",
       " 5,\n",
       " 6,\n",
       " 7,\n",
       " 8,\n",
       " 9,\n",
       " 10,\n",
       " 11,\n",
       " 12,\n",
       " 13,\n",
       " 14,\n",
       " 15,\n",
       " 16,\n",
       " 17,\n",
       " 18,\n",
       " 19,\n",
       " 20,\n",
       " 21,\n",
       " 22,\n",
       " 23,\n",
       " 24,\n",
       " 25,\n",
       " 26,\n",
       " 27,\n",
       " 28,\n",
       " 29,\n",
       " 30,\n",
       " 31,\n",
       " 32,\n",
       " 33,\n",
       " 34,\n",
       " 35,\n",
       " 36,\n",
       " 37,\n",
       " 38,\n",
       " 39,\n",
       " 40,\n",
       " 41,\n",
       " 42,\n",
       " 43,\n",
       " 44,\n",
       " 45,\n",
       " 46,\n",
       " 47,\n",
       " 48,\n",
       " 49,\n",
       " 50,\n",
       " 51,\n",
       " 52,\n",
       " 53,\n",
       " 54,\n",
       " 55,\n",
       " 56,\n",
       " 57,\n",
       " 58,\n",
       " 59,\n",
       " 60,\n",
       " 61,\n",
       " 62,\n",
       " 63,\n",
       " 64,\n",
       " 65,\n",
       " 66,\n",
       " 67,\n",
       " 68,\n",
       " 69,\n",
       " 70,\n",
       " 71,\n",
       " 72,\n",
       " 73,\n",
       " 74,\n",
       " 75,\n",
       " 76,\n",
       " 77,\n",
       " 78,\n",
       " 79,\n",
       " 80,\n",
       " 81,\n",
       " 82,\n",
       " 83,\n",
       " 84,\n",
       " 85,\n",
       " 86,\n",
       " 87,\n",
       " 88,\n",
       " 89,\n",
       " 90,\n",
       " 91,\n",
       " 92,\n",
       " 93,\n",
       " 94,\n",
       " 95,\n",
       " 96,\n",
       " 97,\n",
       " 98,\n",
       " 99]"
      ]
     },
     "execution_count": 37,
     "metadata": {},
     "output_type": "execute_result"
    }
   ],
   "source": [
    "create_large_list(100)"
   ]
  },
  {
   "cell_type": "code",
   "execution_count": 55,
   "metadata": {},
   "outputs": [
    {
     "name": "stdout",
     "output_type": "stream",
     "text": [
      "memory usage : 920\n"
     ]
    }
   ],
   "source": [
    "# better way to check the memory usage \n",
    "\n",
    "import tracemalloc\n",
    "\n",
    "tracemalloc.start()\n",
    "\n",
    "start_memory, peak = tracemalloc.get_traced_memory()\n",
    "some_list = [i for i in range(100)]\n",
    "current, peak = tracemalloc.get_traced_memory()\n",
    "\n",
    "tracemalloc.stop()\n",
    "\n",
    "print(f\"memory usage : {current - start_memory}\")"
   ]
  },
  {
   "cell_type": "code",
   "execution_count": 56,
   "metadata": {},
   "outputs": [],
   "source": [
    "# making a decorator which tracks memory use of a func \n",
    "\n",
    "def measure_memory(func):\n",
    "    # standard practice\n",
    "    wraps(func)\n",
    "\n",
    "    def memory_wrapper(*args, **kwargs):\n",
    "        # start memory tracking \n",
    "        tracemalloc.start()\n",
    "        # get the current mem usage \n",
    "        start_memory, peak = tracemalloc.get_traced_memory()\n",
    "        # run the func\n",
    "        result = func(*args, **kwargs)\n",
    "        # memore usage after the func executes \n",
    "        current, peak = tracemalloc.get_traced_memory()\n",
    "        # stop tracking\n",
    "        tracemalloc.stop()\n",
    "        # memory usage\n",
    "        memory_diff = current - start_memory\n",
    "        print(f\"\\nFunction: {func.__name__}\")\n",
    "        print(f\"Current memory usage: {current / 10**6:.2f} MB\")\n",
    "        print(f\"Peak memory usage: {peak / 10**6:.2f} MB\")\n",
    "        print(f\"Memory difference: {memory_diff / 10**6:.2f} MB\")\n",
    "\n",
    "        return result\n",
    "    \n",
    "    return memory_wrapper\n",
    "\n"
   ]
  },
  {
   "cell_type": "code",
   "execution_count": 57,
   "metadata": {},
   "outputs": [],
   "source": [
    "def create_large_list(size: int) -> List[int]:\n",
    "    \"\"\"Creates a large list of integers\"\"\"\n",
    "    return list(range(size))\n",
    "\n",
    "def string_concatenation(n: int) -> str:\n",
    "    \"\"\"Performs repeated string concatenation\"\"\"\n",
    "    result = \"\"\n",
    "    for i in range(n):\n",
    "        result += f\"string{i}\"\n",
    "    return result\n",
    "\n",
    "@measure_memory\n",
    "def test_memory_usage():\n",
    "    large_list = create_large_list(1000000)\n",
    "    string = string_concatenation(10000)\n",
    "    return \"operations completed\""
   ]
  },
  {
   "cell_type": "code",
   "execution_count": 58,
   "metadata": {},
   "outputs": [
    {
     "name": "stdout",
     "output_type": "stream",
     "text": [
      "\n",
      "Function: test_memory_usage\n",
      "Current memory usage: 0.00 MB\n",
      "Peak memory usage: 36.09 MB\n",
      "Memory difference: 0.00 MB\n"
     ]
    },
    {
     "data": {
      "text/plain": [
       "'operations completed'"
      ]
     },
     "execution_count": 58,
     "metadata": {},
     "output_type": "execute_result"
    }
   ],
   "source": [
    "test_memory_usage()"
   ]
  },
  {
   "cell_type": "code",
   "execution_count": null,
   "metadata": {},
   "outputs": [],
   "source": []
  }
 ],
 "metadata": {
  "kernelspec": {
   "display_name": "Python 3",
   "language": "python",
   "name": "python3"
  },
  "language_info": {
   "codemirror_mode": {
    "name": "ipython",
    "version": 3
   },
   "file_extension": ".py",
   "mimetype": "text/x-python",
   "name": "python",
   "nbconvert_exporter": "python",
   "pygments_lexer": "ipython3",
   "version": "3.10.5"
  }
 },
 "nbformat": 4,
 "nbformat_minor": 2
}
